{
 "cells": [
  {
   "cell_type": "code",
   "execution_count": 1,
   "id": "855d80a7",
   "metadata": {
    "execution": {
     "iopub.execute_input": "2023-03-22T04:04:18.494202Z",
     "iopub.status.busy": "2023-03-22T04:04:18.493633Z",
     "iopub.status.idle": "2023-03-22T04:04:44.037613Z",
     "shell.execute_reply": "2023-03-22T04:04:44.035893Z"
    },
    "papermill": {
     "duration": 25.556637,
     "end_time": "2023-03-22T04:04:44.040908",
     "exception": false,
     "start_time": "2023-03-22T04:04:18.484271",
     "status": "completed"
    },
    "tags": []
   },
   "outputs": [
    {
     "name": "stdout",
     "output_type": "stream",
     "text": [
      "[nltk_data] Downloading package punkt to /usr/share/nltk_data...\n",
      "[nltk_data]   Package punkt is already up-to-date!\n",
      "[nltk_data] Downloading package wordnet to /usr/share/nltk_data...\n",
      "[nltk_data]   Package wordnet is already up-to-date!\n",
      "[nltk_data] Downloading package wordnet2022 to /usr/share/nltk_data...\n",
      "[nltk_data]   Unzipping corpora/wordnet2022.zip.\n",
      "[nltk_data] Downloading package stopwords to /usr/share/nltk_data...\n",
      "[nltk_data]   Package stopwords is already up-to-date!\n"
     ]
    },
    {
     "name": "stderr",
     "output_type": "stream",
     "text": [
      "/opt/conda/lib/python3.7/site-packages/nltk/twitter/__init__.py:20: UserWarning: The twython library has not been installed. Some functionality from the twitter package will not be available.\n",
      "  warnings.warn(\"The twython library has not been installed. \"\n"
     ]
    },
    {
     "data": {
      "text/html": [
       "        <script type=\"text/javascript\">\n",
       "        window.PlotlyConfig = {MathJaxConfig: 'local'};\n",
       "        if (window.MathJax && window.MathJax.Hub && window.MathJax.Hub.Config) {window.MathJax.Hub.Config({SVG: {font: \"STIX-Web\"}});}\n",
       "        if (typeof require !== 'undefined') {\n",
       "        require.undef(\"plotly\");\n",
       "        requirejs.config({\n",
       "            paths: {\n",
       "                'plotly': ['https://cdn.plot.ly/plotly-2.18.0.min']\n",
       "            }\n",
       "        });\n",
       "        require(['plotly'], function(Plotly) {\n",
       "            window._Plotly = Plotly;\n",
       "        });\n",
       "        }\n",
       "        </script>\n",
       "        "
      ]
     },
     "metadata": {},
     "output_type": "display_data"
    },
    {
     "name": "stdout",
     "output_type": "stream",
     "text": [
      "Collecting neattext\r\n",
      "  Downloading neattext-0.1.3-py3-none-any.whl (114 kB)\r\n",
      "\u001b[2K     \u001b[90m━━━━━━━━━━━━━━━━━━━━━━━━━━━━━━━━━━━━━━━\u001b[0m \u001b[32m114.7/114.7 kB\u001b[0m \u001b[31m2.9 MB/s\u001b[0m eta \u001b[36m0:00:00\u001b[0m\r\n",
      "\u001b[?25hInstalling collected packages: neattext\r\n",
      "Successfully installed neattext-0.1.3\r\n",
      "\u001b[33mWARNING: Running pip as the 'root' user can result in broken permissions and conflicting behaviour with the system package manager. It is recommended to use a virtual environment instead: https://pip.pypa.io/warnings/venv\u001b[0m\u001b[33m\r\n",
      "\u001b[0m"
     ]
    }
   ],
   "source": [
    "#Importing all the neccessary libraries\n",
    "import pandas as pd\n",
    "import numpy as np #for linear algebra\n",
    "\n",
    "#Libraries for visualisation\n",
    "import matplotlib.pyplot as plt\n",
    "import matplotlib.patches as mpatches\n",
    "import seaborn as sns\n",
    "import plotly.express as px\n",
    "from plotly.subplots import make_subplots\n",
    "import plotly.graph_objects as go\n",
    "\n",
    "#Libraries for formattting and handling text \n",
    "import string\n",
    "import re\n",
    "\n",
    "#Library for nltk\n",
    "import nltk \n",
    "import nltk.corpus\n",
    "from nltk.corpus import stopwords\n",
    "nltk.download('punkt')\n",
    "nltk.download('wordnet')\n",
    "nltk.download('wordnet2022')\n",
    "nltk.download('stopwords')\n",
    "! cp -rf /usr/share/nltk_data/corpora/wordnet2022 /usr/share/nltk_data/corpora/wordnet\n",
    "from nltk.corpus import wordnet\n",
    "from nltk.stem import WordNetLemmatizer\n",
    "from wordcloud import WordCloud\n",
    "from nltk.sentiment import SentimentIntensityAnalyzer\n",
    "\n",
    "from collections import defaultdict\n",
    "from collections import  Counter\n",
    "stop=set(stopwords.words('english'))\n",
    "\n",
    "#Library for NN\n",
    "from keras.models import Sequential\n",
    "from keras.layers import Embedding, LSTM, Dense, SpatialDropout1D\n",
    "from keras.initializers import Constant\n",
    "\n",
    "\n",
    "import sklearn\n",
    "#Library for Splitting Dataset\n",
    "from sklearn.model_selection import train_test_split\n",
    "#Library for TFIDF\n",
    "from sklearn.feature_extraction.text import TfidfVectorizer, CountVectorizer, HashingVectorizer\n",
    "from sklearn.ensemble import GradientBoostingClassifier\n",
    "from sklearn.tree import DecisionTreeClassifier\n",
    "from sklearn import model_selection, naive_bayes\n",
    "#Library for evaluation\n",
    "from sklearn.metrics import accuracy_score, precision_score, recall_score, f1_score,classification_report\n",
    "\n",
    "import warnings\n",
    "warnings.filterwarnings(\"ignore\")\n",
    "\n",
    "import plotly\n",
    "plotly.offline.init_notebook_mode (connected = True)\n",
    "\n",
    "!pip install neattext\n",
    "import neattext as nt"
   ]
  },
  {
   "cell_type": "code",
   "execution_count": 2,
   "id": "e2a0e2f8",
   "metadata": {
    "execution": {
     "iopub.execute_input": "2023-03-22T04:04:44.059467Z",
     "iopub.status.busy": "2023-03-22T04:04:44.057062Z",
     "iopub.status.idle": "2023-03-22T04:04:44.118413Z",
     "shell.execute_reply": "2023-03-22T04:04:44.117253Z"
    },
    "papermill": {
     "duration": 0.072898,
     "end_time": "2023-03-22T04:04:44.120955",
     "exception": false,
     "start_time": "2023-03-22T04:04:44.048057",
     "status": "completed"
    },
    "tags": []
   },
   "outputs": [
    {
     "name": "stdout",
     "output_type": "stream",
     "text": [
      "<class 'pandas.core.series.Series'>\n"
     ]
    }
   ],
   "source": [
    "# only considering train.csv\n",
    "\n",
    "df = pd.read_csv(\"/kaggle/input/nlp-getting-started/train.csv\")\n",
    "df.head(5)\n",
    "x = df[\"text\"]\n",
    "y = df[\"target\"]\n",
    "print(type(x))"
   ]
  },
  {
   "cell_type": "markdown",
   "id": "b4f404c6",
   "metadata": {
    "papermill": {
     "duration": 0.006097,
     "end_time": "2023-03-22T04:04:44.133443",
     "exception": false,
     "start_time": "2023-03-22T04:04:44.127346",
     "status": "completed"
    },
    "tags": []
   },
   "source": [
    "# Info and Data Vizualization"
   ]
  },
  {
   "cell_type": "code",
   "execution_count": 3,
   "id": "1ae34f8f",
   "metadata": {
    "execution": {
     "iopub.execute_input": "2023-03-22T04:04:44.148934Z",
     "iopub.status.busy": "2023-03-22T04:04:44.148053Z",
     "iopub.status.idle": "2023-03-22T04:04:44.175101Z",
     "shell.execute_reply": "2023-03-22T04:04:44.173748Z"
    },
    "papermill": {
     "duration": 0.03847,
     "end_time": "2023-03-22T04:04:44.178396",
     "exception": false,
     "start_time": "2023-03-22T04:04:44.139926",
     "status": "completed"
    },
    "tags": []
   },
   "outputs": [
    {
     "name": "stdout",
     "output_type": "stream",
     "text": [
      "<class 'pandas.core.frame.DataFrame'>\n",
      "RangeIndex: 7613 entries, 0 to 7612\n",
      "Data columns (total 5 columns):\n",
      " #   Column    Non-Null Count  Dtype \n",
      "---  ------    --------------  ----- \n",
      " 0   id        7613 non-null   int64 \n",
      " 1   keyword   7552 non-null   object\n",
      " 2   location  5080 non-null   object\n",
      " 3   text      7613 non-null   object\n",
      " 4   target    7613 non-null   int64 \n",
      "dtypes: int64(2), object(3)\n",
      "memory usage: 297.5+ KB\n"
     ]
    }
   ],
   "source": [
    "df.info()\n",
    "#filling in NA's for keyword and location\n",
    "df['keyword'].fillna('no_keyword', inplace=True)\n",
    "df['location'].fillna('no_location', inplace=True)"
   ]
  },
  {
   "cell_type": "code",
   "execution_count": 4,
   "id": "fbf880a7",
   "metadata": {
    "execution": {
     "iopub.execute_input": "2023-03-22T04:04:44.195186Z",
     "iopub.status.busy": "2023-03-22T04:04:44.194217Z",
     "iopub.status.idle": "2023-03-22T04:04:44.442344Z",
     "shell.execute_reply": "2023-03-22T04:04:44.441409Z"
    },
    "papermill": {
     "duration": 0.258818,
     "end_time": "2023-03-22T04:04:44.444784",
     "exception": false,
     "start_time": "2023-03-22T04:04:44.185966",
     "status": "completed"
    },
    "tags": []
   },
   "outputs": [
    {
     "data": {
      "text/plain": [
       "Text(0.5, 1.0, 'Total Counts of Real and Fake Disaster Tweets')"
      ]
     },
     "execution_count": 4,
     "metadata": {},
     "output_type": "execute_result"
    },
    {
     "data": {
      "image/png": "[encoded data removed]",
      "text/plain": [
       "<Figure size 640x480 with 1 Axes>"
      ]
     },
     "metadata": {},
     "output_type": "display_data"
    }
   ],
   "source": [
    "#graphing total counts of fake and real tweets\n",
    "sns.countplot(x = df.target, data = df, palette = 'seismic_r')\n",
    "labels = [\"Non Disaster Tweets\", \"Disaster Tweets\"]\n",
    "plt.gca().set_xticklabels(labels)\n",
    "plt.xlabel(\"Tweet Type\")\n",
    "plt.gca().set_title('Total Counts of Real and Fake Disaster Tweets')"
   ]
  },
  {
   "cell_type": "code",
   "execution_count": 5,
   "id": "cbc65480",
   "metadata": {
    "execution": {
     "iopub.execute_input": "2023-03-22T04:04:44.462065Z",
     "iopub.status.busy": "2023-03-22T04:04:44.460920Z",
     "iopub.status.idle": "2023-03-22T04:04:45.071303Z",
     "shell.execute_reply": "2023-03-22T04:04:45.070058Z"
    },
    "papermill": {
     "duration": 0.622251,
     "end_time": "2023-03-22T04:04:45.074412",
     "exception": false,
     "start_time": "2023-03-22T04:04:44.452161",
     "status": "completed"
    },
    "tags": []
   },
   "outputs": [
    {
     "data": {
      "text/plain": [
       "<matplotlib.legend.Legend at 0x7f3e11e6fe50>"
      ]
     },
     "execution_count": 5,
     "metadata": {},
     "output_type": "execute_result"
    },
    {
     "data": {
      "image/png": "[encoded data removed]",
      "text/plain": [
       "<Figure size 640x480 with 1 Axes>"
      ]
     },
     "metadata": {},
     "output_type": "display_data"
    }
   ],
   "source": [
    "#Number of fake and real tweets according to keyword, TOP 25 only\n",
    "keyword_fake = df[df['target'] == 0].groupby('keyword').count().drop(columns=['target', 'id']).sort_values(by='text', ascending=False)[:25]\n",
    "keyword_real = df[df['target'] == 1].groupby('keyword').count().drop(columns=['target', 'id']).sort_values(by='text', ascending=False)[:25]\n",
    "\n",
    "sns.barplot(data=keyword_fake,y=keyword_real.index, x = 'text',color='red',) #number of fake tweets\n",
    "sns.barplot(data=keyword_real,y=keyword_real.index, x = 'text',color='blue')#number of real tweets\n",
    "plt.gca().set_xlabel('Number of tweets')\n",
    "plt.gca().set_title('Number of tweets per keyword of Real and Fake Disaster Tweets')\n",
    "red = mpatches.Patch(color='red', label='Non Disaster Tweet')\n",
    "blue = mpatches.Patch(color='blue', label='Disaster Tweet')\n",
    "plt.legend(loc=2, title='Tweet Types',bbox_to_anchor = (1,1), handles = [blue, red])"
   ]
  },
  {
   "cell_type": "code",
   "execution_count": 6,
   "id": "5d1c89d9",
   "metadata": {
    "execution": {
     "iopub.execute_input": "2023-03-22T04:04:45.094681Z",
     "iopub.status.busy": "2023-03-22T04:04:45.093804Z",
     "iopub.status.idle": "2023-03-22T04:04:45.349927Z",
     "shell.execute_reply": "2023-03-22T04:04:45.348637Z"
    },
    "papermill": {
     "duration": 0.269503,
     "end_time": "2023-03-22T04:04:45.353137",
     "exception": false,
     "start_time": "2023-03-22T04:04:45.083634",
     "status": "completed"
    },
    "tags": []
   },
   "outputs": [
    {
     "data": {
      "image/png": "[encoded data removed]",
      "text/plain": [
       "<Figure size 640x480 with 1 Axes>"
      ]
     },
     "metadata": {},
     "output_type": "display_data"
    }
   ],
   "source": [
    "#Graph to display the number of characters for real and fake tweets\n",
    "real=df[df['target']==1]\n",
    "fake = df[df['target']==0]\n",
    "\n",
    "fig, ax1  = plt.subplots()\n",
    "\n",
    "real_len=real['text'].str.len().value_counts().sort_index()\n",
    "ax1.plot(real_len.index, real_len.values, label='Disaster Tweets',color='blue')\n",
    "\n",
    "fake_len=fake['text'].str.len().value_counts().sort_index()\n",
    "ax1.plot(fake_len.index, fake_len.values, label='Non Disaster Tweet',color='red',)\n",
    "fig.suptitle('Number of characters')\n",
    "ax1.legend(title='Tweet Types')\n",
    "plt.show()"
   ]
  },
  {
   "cell_type": "code",
   "execution_count": 7,
   "id": "d02b725d",
   "metadata": {
    "execution": {
     "iopub.execute_input": "2023-03-22T04:04:45.375503Z",
     "iopub.status.busy": "2023-03-22T04:04:45.374675Z",
     "iopub.status.idle": "2023-03-22T04:04:45.556108Z",
     "shell.execute_reply": "2023-03-22T04:04:45.554325Z"
    },
    "papermill": {
     "duration": 0.195902,
     "end_time": "2023-03-22T04:04:45.559235",
     "exception": false,
     "start_time": "2023-03-22T04:04:45.363333",
     "status": "completed"
    },
    "tags": []
   },
   "outputs": [
    {
     "data": {
      "image/png": "[encoded data removed]",
      "text/plain": [
       "<Figure size 640x480 with 1 Axes>"
      ]
     },
     "metadata": {},
     "output_type": "display_data"
    }
   ],
   "source": [
    "# Calculate the average word length for each set of tweets\n",
    "real_avg_word_len = real[\"text\"].str.split().apply(lambda x: sum(len(word) for word in x)/len(x)).mean()\n",
    "fake_avg_word_len = fake[\"text\"].str.split().apply(lambda x: sum(len(word) for word in x)/len(x)).mean()\n",
    "\n",
    "sns.barplot(x = [\"Disaster Tweets\", \"Non Disaster Tweets\"],y = [real_avg_word_len,fake_avg_word_len], palette = 'seismic_r')\n",
    "plt.title(\"Average Word Length in Real and Fake Disaster Tweets\")\n",
    "plt.xlabel(\"Tweet Type\")\n",
    "plt.ylabel(\"Average Word Length\")\n",
    "plt.show()"
   ]
  },
  {
   "cell_type": "markdown",
   "id": "9ce564a1",
   "metadata": {
    "papermill": {
     "duration": 0.009698,
     "end_time": "2023-03-22T04:04:45.579455",
     "exception": false,
     "start_time": "2023-03-22T04:04:45.569757",
     "status": "completed"
    },
    "tags": []
   },
   "source": [
    "# Cleaning Data\n",
    "---"
   ]
  },
  {
   "cell_type": "code",
   "execution_count": 8,
   "id": "67dc785e",
   "metadata": {
    "execution": {
     "iopub.execute_input": "2023-03-22T04:04:45.601176Z",
     "iopub.status.busy": "2023-03-22T04:04:45.600633Z",
     "iopub.status.idle": "2023-03-22T04:04:45.611678Z",
     "shell.execute_reply": "2023-03-22T04:04:45.610379Z"
    },
    "papermill": {
     "duration": 0.024496,
     "end_time": "2023-03-22T04:04:45.613963",
     "exception": false,
     "start_time": "2023-03-22T04:04:45.589467",
     "status": "completed"
    },
    "tags": []
   },
   "outputs": [
    {
     "name": "stdout",
     "output_type": "stream",
     "text": [
      "(6090,) (1523,)\n"
     ]
    }
   ],
   "source": [
    "from sklearn.model_selection import train_test_split\n",
    "#split the x and y data into training and validation sets, 20% of data allocated to validation set, random state for reproduceability.\n",
    "x_train, x_val, y_train, y_val = train_test_split(x, y, test_size=0.2, random_state=42)\n",
    "print(x_train.shape, x_val.shape)"
   ]
  },
  {
   "cell_type": "code",
   "execution_count": 9,
   "id": "5b45b553",
   "metadata": {
    "execution": {
     "iopub.execute_input": "2023-03-22T04:04:45.636289Z",
     "iopub.status.busy": "2023-03-22T04:04:45.635850Z",
     "iopub.status.idle": "2023-03-22T04:04:49.834677Z",
     "shell.execute_reply": "2023-03-22T04:04:49.833320Z"
    },
    "papermill": {
     "duration": 4.212969,
     "end_time": "2023-03-22T04:04:49.837628",
     "exception": false,
     "start_time": "2023-03-22T04:04:45.624659",
     "status": "completed"
    },
    "tags": []
   },
   "outputs": [
    {
     "name": "stdout",
     "output_type": "stream",
     "text": [
      "4996    courageous honest analysis need atomic bomb ja...\n",
      "3263    zachzaidman shame golf cart engulfed flame boy...\n",
      "Name: text, dtype: object\n",
      "2644                weapon cause unimaginable destruction\n",
      "2227    famping thing gishwhes soaked deluge going tam...\n",
      "Name: text, dtype: object\n"
     ]
    }
   ],
   "source": [
    "def clean_data(text):\n",
    "    #pipeline cleans in order, normalize first, then remove_numbers ETC\n",
    "    clean_pipeline = nt.TextPipeline(steps=[nt.normalize, nt.remove_numbers, nt.fix_contractions, nt.remove_stopwords, nt.remove_emails, nt.remove_emojis, nt.remove_html_tags, nt.remove_urls, nt.remove_special_characters])\n",
    "    text = clean_pipeline.transform(text)\n",
    " \n",
    "    #Lemmatization -> reducing a word to its base or dictionary form: \"am\", \"is\", \"are\" -become-> \"be\"\n",
    "        # this will normalize the text data and reduce its dimensionality (amount of data)\n",
    "    lemmatizer = WordNetLemmatizer()\n",
    "    text = \" \".join([lemmatizer.lemmatize(word) for word in text.split()])\n",
    "    text = \" \".join([t for t in text.split() if len(t) > 3 ])\n",
    "    return text\n",
    "\n",
    "x_train_clean= x_train.apply(clean_data)\n",
    "print(x_train_clean.head(2))\n",
    "\n",
    "x_val_clean = x_val.apply(clean_data)\n",
    "print(x_val_clean.head(2))"
   ]
  },
  {
   "cell_type": "markdown",
   "id": "966edf98",
   "metadata": {
    "papermill": {
     "duration": 0.010091,
     "end_time": "2023-03-22T04:04:49.858576",
     "exception": false,
     "start_time": "2023-03-22T04:04:49.848485",
     "status": "completed"
    },
    "tags": []
   },
   "source": [
    "# Sentiment Analysis\n",
    "---"
   ]
  },
  {
   "cell_type": "code",
   "execution_count": 10,
   "id": "bc3a3903",
   "metadata": {
    "execution": {
     "iopub.execute_input": "2023-03-22T04:04:49.881502Z",
     "iopub.status.busy": "2023-03-22T04:04:49.880796Z",
     "iopub.status.idle": "2023-03-22T04:04:50.806269Z",
     "shell.execute_reply": "2023-03-22T04:04:50.805164Z"
    },
    "papermill": {
     "duration": 0.939675,
     "end_time": "2023-03-22T04:04:50.808573",
     "exception": false,
     "start_time": "2023-03-22T04:04:49.868898",
     "status": "completed"
    },
    "tags": []
   },
   "outputs": [
    {
     "data": {
      "text/html": [
       "<div>\n",
       "<style scoped>\n",
       "    .dataframe tbody tr th:only-of-type {\n",
       "        vertical-align: middle;\n",
       "    }\n",
       "\n",
       "    .dataframe tbody tr th {\n",
       "        vertical-align: top;\n",
       "    }\n",
       "\n",
       "    .dataframe thead th {\n",
       "        text-align: right;\n",
       "    }\n",
       "</style>\n",
       "<table border=\"1\" class=\"dataframe\">\n",
       "  <thead>\n",
       "    <tr style=\"text-align: right;\">\n",
       "      <th></th>\n",
       "      <th>text</th>\n",
       "      <th>sentiment</th>\n",
       "      <th>max_type</th>\n",
       "      <th>max_score</th>\n",
       "    </tr>\n",
       "  </thead>\n",
       "  <tbody>\n",
       "    <tr>\n",
       "      <th>4996</th>\n",
       "      <td>courageous honest analysis need atomic bomb ja...</td>\n",
       "      <td>{'neg': 0.298, 'neu': 0.331, 'pos': 0.37, 'com...</td>\n",
       "      <td>positive</td>\n",
       "      <td>0.370</td>\n",
       "    </tr>\n",
       "    <tr>\n",
       "      <th>3263</th>\n",
       "      <td>zachzaidman shame golf cart engulfed flame boy...</td>\n",
       "      <td>{'neg': 0.341, 'neu': 0.659, 'pos': 0.0, 'comp...</td>\n",
       "      <td>neutral</td>\n",
       "      <td>0.659</td>\n",
       "    </tr>\n",
       "    <tr>\n",
       "      <th>4907</th>\n",
       "      <td>tell barackobama rescind medal honor given sol...</td>\n",
       "      <td>{'neg': 0.0, 'neu': 0.588, 'pos': 0.412, 'comp...</td>\n",
       "      <td>compound</td>\n",
       "      <td>0.743</td>\n",
       "    </tr>\n",
       "    <tr>\n",
       "      <th>2855</th>\n",
       "      <td>worried drought affect extreme weather dampen ...</td>\n",
       "      <td>{'neg': 0.268, 'neu': 0.732, 'pos': 0.0, 'comp...</td>\n",
       "      <td>neutral</td>\n",
       "      <td>0.732</td>\n",
       "    </tr>\n",
       "    <tr>\n",
       "      <th>4716</th>\n",
       "      <td>youngheroesid lava blast power pantherattack j...</td>\n",
       "      <td>{'neg': 0.0, 'neu': 1.0, 'pos': 0.0, 'compound...</td>\n",
       "      <td>neutral</td>\n",
       "      <td>1.000</td>\n",
       "    </tr>\n",
       "  </tbody>\n",
       "</table>\n",
       "</div>"
      ],
      "text/plain": [
       "                                                   text  \\\n",
       "4996  courageous honest analysis need atomic bomb ja...   \n",
       "3263  zachzaidman shame golf cart engulfed flame boy...   \n",
       "4907  tell barackobama rescind medal honor given sol...   \n",
       "2855  worried drought affect extreme weather dampen ...   \n",
       "4716  youngheroesid lava blast power pantherattack j...   \n",
       "\n",
       "                                              sentiment  max_type  max_score  \n",
       "4996  {'neg': 0.298, 'neu': 0.331, 'pos': 0.37, 'com...  positive      0.370  \n",
       "3263  {'neg': 0.341, 'neu': 0.659, 'pos': 0.0, 'comp...   neutral      0.659  \n",
       "4907  {'neg': 0.0, 'neu': 0.588, 'pos': 0.412, 'comp...  compound      0.743  \n",
       "2855  {'neg': 0.268, 'neu': 0.732, 'pos': 0.0, 'comp...   neutral      0.732  \n",
       "4716  {'neg': 0.0, 'neu': 1.0, 'pos': 0.0, 'compound...   neutral      1.000  "
      ]
     },
     "execution_count": 10,
     "metadata": {},
     "output_type": "execute_result"
    }
   ],
   "source": [
    "# Sentiment analysis of x_train\n",
    "sentiment_df_train = x_train_clean.to_frame()\n",
    "\n",
    "sia = SentimentIntensityAnalyzer()\n",
    "\n",
    "sentiment_df_train['sentiment'] = sentiment_df_train['text'].apply(lambda x: sia.polarity_scores(x))\n",
    "sentiment_df_train['max_type'] = sentiment_df_train['sentiment'].apply(lambda x: max(x, key=x.get))\n",
    "sent_dict = {'neg': 'negative', 'pos': 'positive', 'neu': 'neutral'}\n",
    "sentiment_df_train['max_type'] = sentiment_df_train['max_type'].replace(sent_dict)\n",
    "sentiment_df_train['max_score'] = sentiment_df_train['sentiment'].apply(lambda x: x[max(x, key=x.get)])\n",
    "sentiment_df_train.head()"
   ]
  },
  {
   "cell_type": "code",
   "execution_count": 11,
   "id": "8dad1f22",
   "metadata": {
    "execution": {
     "iopub.execute_input": "2023-03-22T04:04:50.831662Z",
     "iopub.status.busy": "2023-03-22T04:04:50.830926Z",
     "iopub.status.idle": "2023-03-22T04:04:51.082738Z",
     "shell.execute_reply": "2023-03-22T04:04:51.081486Z"
    },
    "papermill": {
     "duration": 0.266091,
     "end_time": "2023-03-22T04:04:51.085631",
     "exception": false,
     "start_time": "2023-03-22T04:04:50.819540",
     "status": "completed"
    },
    "tags": []
   },
   "outputs": [
    {
     "data": {
      "text/html": [
       "<div>\n",
       "<style scoped>\n",
       "    .dataframe tbody tr th:only-of-type {\n",
       "        vertical-align: middle;\n",
       "    }\n",
       "\n",
       "    .dataframe tbody tr th {\n",
       "        vertical-align: top;\n",
       "    }\n",
       "\n",
       "    .dataframe thead th {\n",
       "        text-align: right;\n",
       "    }\n",
       "</style>\n",
       "<table border=\"1\" class=\"dataframe\">\n",
       "  <thead>\n",
       "    <tr style=\"text-align: right;\">\n",
       "      <th></th>\n",
       "      <th>text</th>\n",
       "      <th>sentiment</th>\n",
       "      <th>max_type</th>\n",
       "      <th>max_score</th>\n",
       "    </tr>\n",
       "  </thead>\n",
       "  <tbody>\n",
       "    <tr>\n",
       "      <th>2644</th>\n",
       "      <td>weapon cause unimaginable destruction</td>\n",
       "      <td>{'neg': 0.747, 'neu': 0.253, 'pos': 0.0, 'comp...</td>\n",
       "      <td>negative</td>\n",
       "      <td>0.7470</td>\n",
       "    </tr>\n",
       "    <tr>\n",
       "      <th>2227</th>\n",
       "      <td>famping thing gishwhes soaked deluge going tam...</td>\n",
       "      <td>{'neg': 0.0, 'neu': 1.0, 'pos': 0.0, 'compound...</td>\n",
       "      <td>neutral</td>\n",
       "      <td>1.0000</td>\n",
       "    </tr>\n",
       "    <tr>\n",
       "      <th>5448</th>\n",
       "      <td>georgegalloway police catch pickpocket liverpo...</td>\n",
       "      <td>{'neg': 0.0, 'neu': 1.0, 'pos': 0.0, 'compound...</td>\n",
       "      <td>neutral</td>\n",
       "      <td>1.0000</td>\n",
       "    </tr>\n",
       "    <tr>\n",
       "      <th>132</th>\n",
       "      <td>aftershock school kick great want thank making...</td>\n",
       "      <td>{'neg': 0.0, 'neu': 0.333, 'pos': 0.667, 'comp...</td>\n",
       "      <td>compound</td>\n",
       "      <td>0.9001</td>\n",
       "    </tr>\n",
       "    <tr>\n",
       "      <th>6845</th>\n",
       "      <td>response trauma child addict develop defensive...</td>\n",
       "      <td>{'neg': 0.398, 'neu': 0.508, 'pos': 0.093, 'co...</td>\n",
       "      <td>neutral</td>\n",
       "      <td>0.5080</td>\n",
       "    </tr>\n",
       "  </tbody>\n",
       "</table>\n",
       "</div>"
      ],
      "text/plain": [
       "                                                   text  \\\n",
       "2644              weapon cause unimaginable destruction   \n",
       "2227  famping thing gishwhes soaked deluge going tam...   \n",
       "5448  georgegalloway police catch pickpocket liverpo...   \n",
       "132   aftershock school kick great want thank making...   \n",
       "6845  response trauma child addict develop defensive...   \n",
       "\n",
       "                                              sentiment  max_type  max_score  \n",
       "2644  {'neg': 0.747, 'neu': 0.253, 'pos': 0.0, 'comp...  negative     0.7470  \n",
       "2227  {'neg': 0.0, 'neu': 1.0, 'pos': 0.0, 'compound...   neutral     1.0000  \n",
       "5448  {'neg': 0.0, 'neu': 1.0, 'pos': 0.0, 'compound...   neutral     1.0000  \n",
       "132   {'neg': 0.0, 'neu': 0.333, 'pos': 0.667, 'comp...  compound     0.9001  \n",
       "6845  {'neg': 0.398, 'neu': 0.508, 'pos': 0.093, 'co...   neutral     0.5080  "
      ]
     },
     "execution_count": 11,
     "metadata": {},
     "output_type": "execute_result"
    }
   ],
   "source": [
    "#sentiment analysis of x_val\n",
    "sentiment_df_val = x_val_clean.to_frame()\n",
    "\n",
    "sia = SentimentIntensityAnalyzer()\n",
    "\n",
    "sentiment_df_val['sentiment'] = sentiment_df_val['text'].apply(lambda x: sia.polarity_scores(x))\n",
    "sentiment_df_val['max_type'] = sentiment_df_val['sentiment'].apply(lambda x: max(x, key=x.get))\n",
    "sent_dict = {'neg': 'negative', 'pos': 'positive', 'neu': 'neutral'}\n",
    "sentiment_df_val['max_type'] = sentiment_df_val['max_type'].replace(sent_dict)\n",
    "sentiment_df_val['max_score'] = sentiment_df_val['sentiment'].apply(lambda x: x[max(x, key=x.get)])\n",
    "sentiment_df_val.head()"
   ]
  },
  {
   "cell_type": "markdown",
   "id": "30cfee72",
   "metadata": {
    "papermill": {
     "duration": 0.010089,
     "end_time": "2023-03-22T04:04:51.106223",
     "exception": false,
     "start_time": "2023-03-22T04:04:51.096134",
     "status": "completed"
    },
    "tags": []
   },
   "source": [
    "# Vectorization\n",
    "---\n",
    "\n",
    "### CountVectorizer & TfidfVectorizer are both used to convert text data into numerical representations that can be used in machine learning models.\n",
    "\n",
    "* [**CountVectorizer** ](https://scikit-learn.org/stable/modules/generated/sklearn.feature_extraction.text.CountVectorizer.html)\n",
    " - simply counts the occurrence of each word in each document, and represents each document as a vector of word counts.\n",
    "\n",
    " \n",
    "\n",
    "* [**TfidfVectorizer** ](https://scikit-learn.org/stable/modules/generated/sklearn.feature_extraction.text.TfidfVectorizer.html)\n",
    " - considers not only the occurrence of each word in each document, but also the frequency of each word across all documents in the dataset. This helps to downweight the importance of common words like \"the\" and \"and\" that appear frequently in many documents. The result is a matrix of tf-idf scores, where each document is represented as a vector of tf-idf scores for each word.\n",
    " \n",
    "#### More on [Text feature extraction](https://scikit-learn.org/stable/modules/feature_extraction.html#text-feature-extraction)"
   ]
  },
  {
   "cell_type": "code",
   "execution_count": 12,
   "id": "3aa7b214",
   "metadata": {
    "execution": {
     "iopub.execute_input": "2023-03-22T04:04:51.129250Z",
     "iopub.status.busy": "2023-03-22T04:04:51.128812Z",
     "iopub.status.idle": "2023-03-22T04:04:51.426065Z",
     "shell.execute_reply": "2023-03-22T04:04:51.424992Z"
    },
    "papermill": {
     "duration": 0.312304,
     "end_time": "2023-03-22T04:04:51.428798",
     "exception": false,
     "start_time": "2023-03-22T04:04:51.116494",
     "status": "completed"
    },
    "tags": []
   },
   "outputs": [],
   "source": [
    "tfidf_vect = TfidfVectorizer(max_features=5000)\n",
    "#constructs a vocabulary of unique words that appear in the x_train data\n",
    "    #we are training the vectorizer to learn the vocabulary of the text data and to assign an index to each word in the vocabulary.\n",
    "    #This allows the vectorizer to transform new text documents into numerical feature vectors using the same vocabulary\n",
    "tfidf_vect.fit(x_train)\n",
    "\n",
    "#numerical representation of the text data that gives weight to words that are more important\n",
    "x_train_tfidf = tfidf_vect.transform(x_train)\n",
    "x_val_tfidf = tfidf_vect.transform(x_val)"
   ]
  },
  {
   "cell_type": "code",
   "execution_count": 13,
   "id": "0c35e36d",
   "metadata": {
    "execution": {
     "iopub.execute_input": "2023-03-22T04:04:51.452350Z",
     "iopub.status.busy": "2023-03-22T04:04:51.451493Z",
     "iopub.status.idle": "2023-03-22T04:04:51.728843Z",
     "shell.execute_reply": "2023-03-22T04:04:51.727822Z"
    },
    "papermill": {
     "duration": 0.292145,
     "end_time": "2023-03-22T04:04:51.731648",
     "exception": false,
     "start_time": "2023-03-22T04:04:51.439503",
     "status": "completed"
    },
    "tags": []
   },
   "outputs": [],
   "source": [
    "count_vect = CountVectorizer()\n",
    "count_vect.fit(x_train)\n",
    "\n",
    "x_train_count_vect = count_vect.transform(x_train)\n",
    "x_val_count_vect = count_vect.transform(x_val)"
   ]
  },
  {
   "cell_type": "markdown",
   "id": "ea298635",
   "metadata": {
    "papermill": {
     "duration": 0.010374,
     "end_time": "2023-03-22T04:04:51.752709",
     "exception": false,
     "start_time": "2023-03-22T04:04:51.742335",
     "status": "completed"
    },
    "tags": []
   },
   "source": [
    "# Machine Learning Models\n",
    "### Using different models to test their accuracy.\n",
    "---\n",
    "\n",
    "[**DecisionTreeClassifier** ](https://scikit-learn.org/stable/modules/generated/sklearn.tree.DecisionTreeClassifier.html)\n",
    "- A [decision tree](https://scikit-learn.org/stable/modules/tree.html#tree) is a tree-like model that is built from the data to make decisions. It partitions the data into smaller subsets by recursively dividing it based on the values of the features until the data is split into homogeneous classes. Each internal node in the tree represents a feature, and each branch represents a possible value of that feature. The leaves of the tree represent the predicted class labels. Decision trees are easy to interpret and understand, but they can overfit the data if they are too complex.\n",
    "\n",
    "[**GradientBoostingClassifier**](https://scikit-learn.org/stable/modules/generated/sklearn.ensemble.GradientBoostingClassifier.html)\n",
    "- [Gradient boosting](https://scikit-learn.org/stable/modules/ensemble.html#gradient-boosting) is a method of building models by combining multiple weak models to create a stronger model. In the case of the GradientBoostingClassifier, the weak models are decision trees. The algorithm starts by building a decision tree on the data and then iteratively improves the model by adding more decision trees. Each new tree is trained on the errors of the previous trees, and the final prediction is the weighted sum of the predictions of all the trees. Gradient boosting is a powerful method that can achieve high accuracy, but it can be slow and requires careful tuning of hyperparameters.\n",
    "\n",
    "[**MultinomialNB**](https://scikit-learn.org/stable/modules/generated/sklearn.naive_bayes.MultinomialNB.html)\n",
    "- [Naive Bayes](https://scikit-learn.org/stable/modules/naive_bayes.html#multinomial-naive-bayes) is a classification algorithm that is based on Bayes' theorem. The MultinomialNB variant assumes that the features are multinomially distributed, meaning that they represent the counts of the number of times each feature occurs in a document. The algorithm estimates the probabilities of each feature occurring in each class and uses these probabilities to predict the class of new documents. Naive Bayes is fast and simple, but it can suffer from the \"naive\" assumption that the features are independent.\n",
    "\n",
    "[**LogisticRegression**](https://scikit-learn.org/stable/modules/generated/sklearn.linear_model.LogisticRegression.html#sklearn.linear_model.LogisticRegression)\n",
    "- [Logistic regression](https://scikit-learn.org/stable/modules/linear_model.html#logistic-regression) is a method of estimating the probability of a binary outcome based on the input variables. The algorithm estimates the coefficients of a logistic function that maps the input variables to the probability of the outcome. The logistic function is an S-shaped curve that ranges from 0 to 1, so the output of the model can be interpreted as a probability. Logistic regression is fast and interpretable, but it can suffer from the assumption that the relationship between the input variables and the output is linear.\n",
    "\n",
    "[**SVC**](https://scikit-learn.org/stable/modules/generated/sklearn.svm.SVC.html#sklearn.svm.SVC)\n",
    "- [Support vector machines](https://scikit-learn.org/stable/modules/svm.html) (SVMs) are a class of algorithms that are used for classification and regression. The SVC variant is used for classification and works by finding a hyperplane in the feature space that separates the data into different classes. The hyperplane is chosen to maximize the margin, which is the distance between the hyperplane and the closest data points. If the data is not linearly separable, the algorithm can use a kernel function to map the data into a higher-dimensional feature space where it is separable. SVMs are powerful and flexible, but they can be slow and require careful tuning of hyperparameters.\n",
    "\n",
    "[**SVC(C=10) and SVC(C=0.5)**](https://scikit-learn.org/stable/modules/generated/sklearn.svm.SVC.html#sklearn.svm.SVC)\n",
    "- The C parameter in the SVC model controls the trade-off between the smoothness of the decision boundary and the degree to which the model fits the training data. A higher value of C will result in a more complex decision boundary that fits the training data more closely, but may also overfit the data. A lower value of C will result in a smoother decision boundary that generalizes better to new data, but may underfit the training data. By setting C to different values, the SVC model can be tuned to balance between bias and variance."
   ]
  },
  {
   "cell_type": "code",
   "execution_count": 14,
   "id": "283d655e",
   "metadata": {
    "execution": {
     "iopub.execute_input": "2023-03-22T04:04:51.776843Z",
     "iopub.status.busy": "2023-03-22T04:04:51.776015Z",
     "iopub.status.idle": "2023-03-22T04:04:51.785546Z",
     "shell.execute_reply": "2023-03-22T04:04:51.784224Z"
    },
    "papermill": {
     "duration": 0.024746,
     "end_time": "2023-03-22T04:04:51.788199",
     "exception": false,
     "start_time": "2023-03-22T04:04:51.763453",
     "status": "completed"
    },
    "tags": []
   },
   "outputs": [],
   "source": [
    "def model_exec(x_train, y_train, x_val, y_val, models=None):\n",
    "    if models is None:\n",
    "        models = [\n",
    "              DecisionTreeClassifier(),\n",
    "              GradientBoostingClassifier(),\n",
    "              sklearn.naive_bayes.MultinomialNB(), \n",
    "              sklearn.linear_model.LogisticRegression(),\n",
    "              sklearn.svm.SVC(),\n",
    "              sklearn.svm.SVC(C=10),\n",
    "              sklearn.svm.SVC(C=0.5),\n",
    "            ]\n",
    "    else:\n",
    "        if not isinstance(models, list):\n",
    "            models = list(models)\n",
    "            \n",
    "    accuracy_models = []\n",
    "    for model in models:\n",
    "        model.fit(x_train, y_train)\n",
    "        predictions = model.predict(x_val)\n",
    "        print(\"Accuracy Score -> \", model , accuracy_score(predictions, y_val)*100)\n",
    "        accuracy_models.append((accuracy_score(predictions, y_val)*100, model))\n",
    "        \n",
    "    print(accuracy_models)\n",
    "    return max(accuracy_models)"
   ]
  },
  {
   "cell_type": "code",
   "execution_count": 15,
   "id": "0485f44c",
   "metadata": {
    "execution": {
     "iopub.execute_input": "2023-03-22T04:04:51.811196Z",
     "iopub.status.busy": "2023-03-22T04:04:51.810488Z",
     "iopub.status.idle": "2023-03-22T04:05:14.305003Z",
     "shell.execute_reply": "2023-03-22T04:05:14.303655Z"
    },
    "papermill": {
     "duration": 22.508782,
     "end_time": "2023-03-22T04:05:14.307462",
     "exception": false,
     "start_time": "2023-03-22T04:04:51.798680",
     "status": "completed"
    },
    "tags": []
   },
   "outputs": [
    {
     "name": "stdout",
     "output_type": "stream",
     "text": [
      "Accuracy Score ->  DecisionTreeClassifier() 70.25607353906763\n",
      "Accuracy Score ->  GradientBoostingClassifier() 75.70584372948129\n",
      "Accuracy Score ->  MultinomialNB() 80.76165462902168\n",
      "Accuracy Score ->  LogisticRegression() 79.97373604727511\n",
      "Accuracy Score ->  SVC() 81.22127380170716\n",
      "Accuracy Score ->  SVC(C=10) 79.97373604727511\n",
      "Accuracy Score ->  SVC(C=0.5) 80.17071569271175\n",
      "[(70.25607353906763, DecisionTreeClassifier()), (75.70584372948129, GradientBoostingClassifier()), (80.76165462902168, MultinomialNB()), (79.97373604727511, LogisticRegression()), (81.22127380170716, SVC()), (79.97373604727511, SVC(C=10)), (80.17071569271175, SVC(C=0.5))]\n",
      "SVC() 81.22127380170716\n"
     ]
    }
   ],
   "source": [
    "# using tfidf\n",
    "max_accuracy, best_model = model_exec(x_train_tfidf, y_train, \n",
    "                                      x_val_tfidf, y_val)\n",
    "print(best_model, max_accuracy)"
   ]
  },
  {
   "cell_type": "code",
   "execution_count": 16,
   "id": "a2d21f5e",
   "metadata": {
    "execution": {
     "iopub.execute_input": "2023-03-22T04:05:14.330631Z",
     "iopub.status.busy": "2023-03-22T04:05:14.329840Z",
     "iopub.status.idle": "2023-03-22T04:05:40.790907Z",
     "shell.execute_reply": "2023-03-22T04:05:40.789172Z"
    },
    "papermill": {
     "duration": 26.475813,
     "end_time": "2023-03-22T04:05:40.793911",
     "exception": false,
     "start_time": "2023-03-22T04:05:14.318098",
     "status": "completed"
    },
    "tags": []
   },
   "outputs": [
    {
     "name": "stdout",
     "output_type": "stream",
     "text": [
      "Accuracy Score ->  DecisionTreeClassifier() 73.67038739330269\n",
      "Accuracy Score ->  GradientBoostingClassifier() 75.8371634931057\n",
      "Accuracy Score ->  MultinomialNB() 80.10505581089954\n",
      "Accuracy Score ->  LogisticRegression() 80.9586342744583\n",
      "Accuracy Score ->  SVC() 81.08995403808274\n",
      "Accuracy Score ->  SVC(C=10) 80.23637557452396\n",
      "Accuracy Score ->  SVC(C=0.5) 78.52921864740644\n",
      "[(73.67038739330269, DecisionTreeClassifier()), (75.8371634931057, GradientBoostingClassifier()), (80.10505581089954, MultinomialNB()), (80.9586342744583, LogisticRegression()), (81.08995403808274, SVC()), (80.23637557452396, SVC(C=10)), (78.52921864740644, SVC(C=0.5))]\n",
      "SVC() 81.08995403808274\n"
     ]
    }
   ],
   "source": [
    "# using count_vectorizer\n",
    "max_accuracy, best_model = model_exec(x_train_count_vect, y_train, \n",
    "                                      x_val_count_vect, y_val)\n",
    "print(best_model, max_accuracy)"
   ]
  },
  {
   "cell_type": "markdown",
   "id": "59b3cafc",
   "metadata": {
    "papermill": {
     "duration": 0.010732,
     "end_time": "2023-03-22T04:05:40.816045",
     "exception": false,
     "start_time": "2023-03-22T04:05:40.805313",
     "status": "completed"
    },
    "tags": []
   },
   "source": [
    "# Deep Learning\n",
    "---"
   ]
  }
 ],
 "metadata": {
  "kernelspec": {
   "display_name": "Python 3",
   "language": "python",
   "name": "python3"
  },
  "language_info": {
   "codemirror_mode": {
    "name": "ipython",
    "version": 3
   },
   "file_extension": ".py",
   "mimetype": "text/x-python",
   "name": "python",
   "nbconvert_exporter": "python",
   "pygments_lexer": "ipython3",
   "version": "3.7.12"
  },
  "papermill": {
   "default_parameters": {},
   "duration": 95.729271,
   "end_time": "2023-03-22T04:05:44.283515",
   "environment_variables": {},
   "exception": null,
   "input_path": "__notebook__.ipynb",
   "output_path": "__notebook__.ipynb",
   "parameters": {},
   "start_time": "2023-03-22T04:04:08.554244",
   "version": "2.4.0"
  }
 },
 "nbformat": 4,
 "nbformat_minor": 5
}
